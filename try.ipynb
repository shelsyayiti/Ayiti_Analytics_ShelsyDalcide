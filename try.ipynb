{
 "cells": [
  {
   "cell_type": "markdown",
   "metadata": {},
   "source": [
    "<p>\n",
    " <img src=\"ayiti_analytics.png\" alt=\"Ayiti Analytics\"width=400 />\n",
    "</p>"
   ]
  },
  {
   "cell_type": "markdown",
   "metadata": {},
   "source": [
    "##                                       Ayiti Analytics Final Project\n",
    "\n"
   ]
  },
  {
   "cell_type": "markdown",
   "metadata": {},
   "source": [
    "## **A New Social Life** "
   ]
  },
  {
   "cell_type": "markdown",
   "metadata": {},
   "source": [
    "* **By: Shelsy DALCIDE**\n",
    "                                                                                                        July 22, 2020\n"
   ]
  },
  {
   "cell_type": "markdown",
   "metadata": {},
   "source": [
    "## Table of contents\n",
    "* [Introduction: Business Problem](#introduction)\n",
    "* [Data](#data)\n",
    "* [Methodology](#methodology)\n",
    "* [Analysis](#analysis)\n",
    "* [Results and Discussion](#results)\n",
    "* [Conclusion](#conclusion)"
   ]
  },
  {
   "cell_type": "markdown",
   "metadata": {},
   "source": [
    "## **Project Description:** <a name=\"introduction\"></a>\n",
    "\n",
    "It is not easy for someone to leave his country of origin to go live elsewhere a young man would like in Chicago IL to rebuild his life \n",
    "This project will be useful for people wishing to leave their countries to live in Chicago IL.\n",
    "He would like to have additional information so quickly regarding districts such as: \n",
    "* **The average salary of a person living in Chicago IL**\n",
    "* **The price of houses their variations**\n",
    "* **The community zone**\n",
    "* **The level of security.**\n",
    "\n",
    "This problem is interesting for him because he will make new experiences, he will have to adapt to this new home which will allow him to learn more about himself. After our Analysis in fact, he will admit his ability to undertake anything, anywhere.\n",
    "And he will feel at home in an entirely different place.\n",
    "Becoming aware of his possibilities will make him more determined to succeed.\n",
    "And discovering different places will help him to think more creatively.\n",
    "\n"
   ]
  },
  {
   "cell_type": "markdown",
   "metadata": {},
   "source": [
    "## Data <a name=\"data\"></a>\n",
    "\n",
    "In this cell we take our various data either by internet or by Excel document."
   ]
  },
  {
   "cell_type": "code",
   "execution_count": 16,
   "metadata": {},
   "outputs": [],
   "source": [
    "#import our library\n",
    "import pandas as pd\n",
    "import numpy as np\n",
    "from geopy.geocoders import Nominatim\n",
    "import time\n",
    "\n",
    "import json\n",
    "\n",
    "import requests\n",
    "from pandas.io.json import json_normalize\n",
    "from bs4 import BeautifulSoup\n",
    "from selenium import webdriver\n",
    "\n",
    "import matplotlib.cm as cm\n",
    "import matplotlib.colors as colors\n",
    "import requests\n",
    "import seaborn as sns\n",
    "import matplotlib.pyplot as plt\n",
    "\n",
    "from sklearn.cluster import KMeans\n",
    "# tranforming json file into a pandas dataframe library\n",
    "from pandas.io.json import json_normalize\n",
    "from geopy.geocoders import Nominatim \n",
    "import folium"
   ]
  },
  {
   "cell_type": "code",
   "execution_count": null,
   "metadata": {},
   "outputs": [],
   "source": []
  },
  {
   "cell_type": "code",
   "execution_count": 17,
   "metadata": {},
   "outputs": [],
   "source": [
    "browser = webdriver.Chrome()\n",
    "\n"
   ]
  },
  {
   "cell_type": "code",
   "execution_count": 18,
   "metadata": {},
   "outputs": [],
   "source": [
    "#Breaking down the url in 2 part to be able to insert the page number\n",
    "url_part_1 = 'https://www.zillow.com/chicago-il/sold/house,condo,apartment_duplex,townhouse_type/3_p/?searchQueryState=%7B%22pagination%22%3A%7B%22currentPage%22%3A'"
   ]
  },
  {
   "cell_type": "code",
   "execution_count": 19,
   "metadata": {},
   "outputs": [],
   "source": [
    "url_part_2 = '%7D%2C%22usersSearchTerm%22%3A%22Chicago%2C%20IL%22%2C%22mapBounds%22%3A%7B%22west%22%3A-88.1551296328125%2C%22east%22%3A-87.3091823671875%2C%22south%22%3A41.582834028400846%2C%22north%22%3A42.084207565904464%7D%2C%22regionSelection%22%3A%5B%7B%22regionId%22%3A17426%2C%22regionType%22%3A6%7D%5D%2C%22isMapVisible%22%3Atrue%2C%22filterState%22%3A%7B%22pmf%22%3A%7B%22value%22%3Afalse%7D%2C%22fore%22%3A%7B%22value%22%3Afalse%7D%2C%22auc%22%3A%7B%22value%22%3Afalse%7D%2C%22nc%22%3A%7B%22value%22%3Afalse%7D%2C%22rs%22%3A%7B%22value%22%3Atrue%7D%2C%22land%22%3A%7B%22value%22%3Afalse%7D%2C%22manu%22%3A%7B%22value%22%3Afalse%7D%2C%22fsbo%22%3A%7B%22value%22%3Afalse%7D%2C%22cmsn%22%3A%7B%22value%22%3Afalse%7D%2C%22pf%22%3A%7B%22value%22%3Afalse%7D%2C%22fsba%22%3A%7B%22value%22%3Afalse%7D%7D%2C%22isListVisible%22%3Atrue%7D'"
   ]
  },
  {
   "cell_type": "code",
   "execution_count": 20,
   "metadata": {},
   "outputs": [],
   "source": [
    "all_urls = [url_part_1 + str(i) + url_part_2 for i in range(1,21)]"
   ]
  },
  {
   "cell_type": "code",
   "execution_count": 21,
   "metadata": {},
   "outputs": [
    {
     "data": {
      "text/plain": [
       "20"
      ]
     },
     "execution_count": 21,
     "metadata": {},
     "output_type": "execute_result"
    }
   ],
   "source": [
    "#Checking how many urls in the list\n",
    "len(all_urls)"
   ]
  },
  {
   "cell_type": "code",
   "execution_count": 22,
   "metadata": {},
   "outputs": [
    {
     "data": {
      "text/plain": [
       "'https://www.zillow.com/chicago-il/sold/house,condo,apartment_duplex,townhouse_type/3_p/?searchQueryState=%7B%22pagination%22%3A%7B%22currentPage%22%3A1%7D%2C%22usersSearchTerm%22%3A%22Chicago%2C%20IL%22%2C%22mapBounds%22%3A%7B%22west%22%3A-88.1551296328125%2C%22east%22%3A-87.3091823671875%2C%22south%22%3A41.582834028400846%2C%22north%22%3A42.084207565904464%7D%2C%22regionSelection%22%3A%5B%7B%22regionId%22%3A17426%2C%22regionType%22%3A6%7D%5D%2C%22isMapVisible%22%3Atrue%2C%22filterState%22%3A%7B%22pmf%22%3A%7B%22value%22%3Afalse%7D%2C%22fore%22%3A%7B%22value%22%3Afalse%7D%2C%22auc%22%3A%7B%22value%22%3Afalse%7D%2C%22nc%22%3A%7B%22value%22%3Afalse%7D%2C%22rs%22%3A%7B%22value%22%3Atrue%7D%2C%22land%22%3A%7B%22value%22%3Afalse%7D%2C%22manu%22%3A%7B%22value%22%3Afalse%7D%2C%22fsbo%22%3A%7B%22value%22%3Afalse%7D%2C%22cmsn%22%3A%7B%22value%22%3Afalse%7D%2C%22pf%22%3A%7B%22value%22%3Afalse%7D%2C%22fsba%22%3A%7B%22value%22%3Afalse%7D%7D%2C%22isListVisible%22%3Atrue%7D'"
      ]
     },
     "execution_count": 22,
     "metadata": {},
     "output_type": "execute_result"
    }
   ],
   "source": [
    "#Testing that the first url is correct and send to the first page\n",
    "all_urls[0]"
   ]
  },
  {
   "cell_type": "code",
   "execution_count": 23,
   "metadata": {},
   "outputs": [
    {
     "data": {
      "text/plain": [
       "'https://www.zillow.com/chicago-il/sold/house,condo,apartment_duplex,townhouse_type/3_p/?searchQueryState=%7B%22pagination%22%3A%7B%22currentPage%22%3A20%7D%2C%22usersSearchTerm%22%3A%22Chicago%2C%20IL%22%2C%22mapBounds%22%3A%7B%22west%22%3A-88.1551296328125%2C%22east%22%3A-87.3091823671875%2C%22south%22%3A41.582834028400846%2C%22north%22%3A42.084207565904464%7D%2C%22regionSelection%22%3A%5B%7B%22regionId%22%3A17426%2C%22regionType%22%3A6%7D%5D%2C%22isMapVisible%22%3Atrue%2C%22filterState%22%3A%7B%22pmf%22%3A%7B%22value%22%3Afalse%7D%2C%22fore%22%3A%7B%22value%22%3Afalse%7D%2C%22auc%22%3A%7B%22value%22%3Afalse%7D%2C%22nc%22%3A%7B%22value%22%3Afalse%7D%2C%22rs%22%3A%7B%22value%22%3Atrue%7D%2C%22land%22%3A%7B%22value%22%3Afalse%7D%2C%22manu%22%3A%7B%22value%22%3Afalse%7D%2C%22fsbo%22%3A%7B%22value%22%3Afalse%7D%2C%22cmsn%22%3A%7B%22value%22%3Afalse%7D%2C%22pf%22%3A%7B%22value%22%3Afalse%7D%2C%22fsba%22%3A%7B%22value%22%3Afalse%7D%7D%2C%22isListVisible%22%3Atrue%7D'"
      ]
     },
     "execution_count": 23,
     "metadata": {},
     "output_type": "execute_result"
    }
   ],
   "source": [
    "#Testing that the last url is correct and send to the last page\n",
    "all_urls[19]"
   ]
  },
  {
   "cell_type": "code",
   "execution_count": 24,
   "metadata": {},
   "outputs": [],
   "source": [
    "pattern_1 = 'https://www.zillow.com/chicago-il/rentals/'\n",
    "pattern_2 = '_p'"
   ]
  },
  {
   "cell_type": "code",
   "execution_count": 25,
   "metadata": {},
   "outputs": [
    {
     "data": {
      "text/plain": [
       "['https://www.zillow.com/chicago-il/rentals/1_p',\n",
       " 'https://www.zillow.com/chicago-il/rentals/2_p',\n",
       " 'https://www.zillow.com/chicago-il/rentals/3_p',\n",
       " 'https://www.zillow.com/chicago-il/rentals/4_p',\n",
       " 'https://www.zillow.com/chicago-il/rentals/5_p',\n",
       " 'https://www.zillow.com/chicago-il/rentals/6_p',\n",
       " 'https://www.zillow.com/chicago-il/rentals/7_p',\n",
       " 'https://www.zillow.com/chicago-il/rentals/8_p',\n",
       " 'https://www.zillow.com/chicago-il/rentals/9_p',\n",
       " 'https://www.zillow.com/chicago-il/rentals/10_p',\n",
       " 'https://www.zillow.com/chicago-il/rentals/11_p',\n",
       " 'https://www.zillow.com/chicago-il/rentals/12_p',\n",
       " 'https://www.zillow.com/chicago-il/rentals/13_p',\n",
       " 'https://www.zillow.com/chicago-il/rentals/14_p',\n",
       " 'https://www.zillow.com/chicago-il/rentals/15_p',\n",
       " 'https://www.zillow.com/chicago-il/rentals/16_p',\n",
       " 'https://www.zillow.com/chicago-il/rentals/17_p',\n",
       " 'https://www.zillow.com/chicago-il/rentals/18_p',\n",
       " 'https://www.zillow.com/chicago-il/rentals/19_p',\n",
       " 'https://www.zillow.com/chicago-il/rentals/20_p']"
      ]
     },
     "execution_count": 25,
     "metadata": {},
     "output_type": "execute_result"
    }
   ],
   "source": [
    "pattern_list = []\n",
    "for page in range(1,21):\n",
    "    pattern_list.append(pattern_1 + str(page) + pattern_2)\n",
    "\n",
    "pattern_list"
   ]
  },
  {
   "cell_type": "code",
   "execution_count": 26,
   "metadata": {},
   "outputs": [],
   "source": [
    "prices_list, adresses_list, bedrooms_list, bathrooms_list = [],[],[],[]"
   ]
  },
  {
   "cell_type": "code",
   "execution_count": 27,
   "metadata": {},
   "outputs": [],
   "source": [
    "browser.get(pattern_list[0])\n",
    "soup = BeautifulSoup(browser.page_source,'html.parser')\n",
    "results = soup.find_all('div',class_='list-card-info')"
   ]
  },
  {
   "cell_type": "code",
   "execution_count": 28,
   "metadata": {},
   "outputs": [
    {
     "data": {
      "text/plain": [
       "'1700 W. 19th Street | 1700 W 19th St, Chicago, IL'"
      ]
     },
     "execution_count": 28,
     "metadata": {},
     "output_type": "execute_result"
    }
   ],
   "source": [
    "results[0].find_all('address',class_ ='list-card-addr')[0].get_text().strip()"
   ]
  },
  {
   "cell_type": "code",
   "execution_count": 30,
   "metadata": {},
   "outputs": [
    {
     "ename": "IndexError",
     "evalue": "list index out of range",
     "output_type": "error",
     "traceback": [
      "\u001b[1;31m---------------------------------------------------------------------------\u001b[0m",
      "\u001b[1;31mIndexError\u001b[0m                                Traceback (most recent call last)",
      "\u001b[1;32m<ipython-input-30-4c0a563b9c98>\u001b[0m in \u001b[0;36m<module>\u001b[1;34m\u001b[0m\n\u001b[1;32m----> 1\u001b[1;33m \u001b[0mresults\u001b[0m\u001b[1;33m[\u001b[0m\u001b[1;36m0\u001b[0m\u001b[1;33m]\u001b[0m\u001b[1;33m.\u001b[0m\u001b[0mfind_all\u001b[0m\u001b[1;33m(\u001b[0m\u001b[1;34m'div'\u001b[0m\u001b[1;33m,\u001b[0m\u001b[0mclass_\u001b[0m \u001b[1;33m=\u001b[0m\u001b[1;34m'list-card-price'\u001b[0m\u001b[1;33m)\u001b[0m\u001b[1;33m[\u001b[0m\u001b[1;36m0\u001b[0m\u001b[1;33m]\u001b[0m\u001b[1;33m.\u001b[0m\u001b[0mget_text\u001b[0m\u001b[1;33m(\u001b[0m\u001b[1;33m)\u001b[0m\u001b[1;33m.\u001b[0m\u001b[0mstrip\u001b[0m\u001b[1;33m(\u001b[0m\u001b[1;33m)\u001b[0m\u001b[1;33m\u001b[0m\u001b[1;33m\u001b[0m\u001b[0m\n\u001b[0m",
      "\u001b[1;31mIndexError\u001b[0m: list index out of range"
     ]
    }
   ],
   "source": [
    "results[0].find_all('div',class_ ='list-card-price')[0].get_text().strip()"
   ]
  },
  {
   "cell_type": "code",
   "execution_count": null,
   "metadata": {},
   "outputs": [],
   "source": [
    "browser.get(pattern_list[0])\n",
    "soup = BeautifulSoup(browser.page_source,'html.parser')\n",
    "results1 = soup.find_all('div',class_='list-card-info')\n"
   ]
  },
  {
   "cell_type": "code",
   "execution_count": null,
   "metadata": {},
   "outputs": [],
   "source": [
    "df1 =pd.DataFrame(columns=['Price','Address','Bed_rooms','Bath_rooms','Ft_square'])\n",
    "df1"
   ]
  },
  {
   "cell_type": "code",
   "execution_count": null,
   "metadata": {},
   "outputs": [],
   "source": [
    "results1"
   ]
  },
  {
   "cell_type": "code",
   "execution_count": null,
   "metadata": {},
   "outputs": [],
   "source": [
    "price_month,address,bath_room,bed_room,ft_square =[],[],[],[],[]\n",
    "for index in range(0,len(results)):\n",
    "        try:\n",
    "            address.append(results[index].find_all('address',class_ ='list-card-addr')[0].get_text().strip())\n",
    "            price_month.append(results[index].find_all('div',class_ ='list-card-price')[0].get_text().strip())\n",
    "            uls =results[index].find_all('ul',class_ ='list-card-details')\n",
    "            lis = uls[0].find_all('li')\n",
    "            bath_room.append(lis[0].get_text().strip())\n",
    "            bed_room.append(lis[1].get_text().strip())\n",
    "            ft_square.append(lis[2].get_text().strip())\n",
    "\n",
    "            print(\"address:{} ,price_month {},bath_room {},bed_room {} ft_square {}\".format(address,price_month,bath_room,bed_room,ft_square))\n",
    "        except:\n",
    "            print('Error')\n",
    "            pass\n"
   ]
  },
  {
   "cell_type": "code",
   "execution_count": null,
   "metadata": {},
   "outputs": [],
   "source": [
    " df1 =pd.DataFrame(dict(Price=price_month,Address=address,Bath_rooms=bath_room,Beb_rooms=bed_room,Ft_square=ft_square))"
   ]
  },
  {
   "cell_type": "code",
   "execution_count": null,
   "metadata": {},
   "outputs": [],
   "source": [
    "df1"
   ]
  },
  {
   "cell_type": "code",
   "execution_count": null,
   "metadata": {},
   "outputs": [],
   "source": [
    "for link in pattern_list:\n",
    "    browser.get(link)\n",
    "    time.sleep(0.6)\n",
    "      \n",
    "    soup = BeautifulSoup(browser.page_source,'html.parser')\n",
    "    results = soup.find_all('div',class_='list-card-info')"
   ]
  },
  {
   "cell_type": "code",
   "execution_count": null,
   "metadata": {},
   "outputs": [],
   "source": [
    "df = pd.DataFrame({'Price':prices_list,'Address':adresses_list,'bedrooms':bedrooms_list,'bathrooms':bathrooms_list})\n",
    "df"
   ]
  },
  {
   "cell_type": "code",
   "execution_count": null,
   "metadata": {},
   "outputs": [],
   "source": [
    "browser.quit()"
   ]
  },
  {
   "cell_type": "code",
   "execution_count": null,
   "metadata": {},
   "outputs": [],
   "source": []
  }
 ],
 "metadata": {
  "kernelspec": {
   "display_name": "Python 3",
   "language": "python",
   "name": "python3"
  },
  "language_info": {
   "codemirror_mode": {
    "name": "ipython",
    "version": 3
   },
   "file_extension": ".py",
   "mimetype": "text/x-python",
   "name": "python",
   "nbconvert_exporter": "python",
   "pygments_lexer": "ipython3",
   "version": "3.7.4"
  }
 },
 "nbformat": 4,
 "nbformat_minor": 2
}
